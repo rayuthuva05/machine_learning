{
 "cells": [
  {
   "cell_type": "code",
   "execution_count": 4,
   "id": "8a0a8382",
   "metadata": {},
   "outputs": [],
   "source": [
    "import pandas as pd\n",
    "from sklearn.datasets import load_iris"
   ]
  },
  {
   "cell_type": "code",
   "execution_count": 8,
   "id": "1da9c6c0",
   "metadata": {},
   "outputs": [],
   "source": [
    "df=pd.read_csv(\"Iris.csv\")\n",
    "df=df.drop(['Id'],axis=1)\n",
    "target=df['Species']"
   ]
  },
  {
   "cell_type": "code",
   "execution_count": 9,
   "id": "6f4d1654",
   "metadata": {},
   "outputs": [],
   "source": [
    "s=set()\n",
    "for val in target:\n",
    "    s.add(val)\n",
    "s=list(s)\n",
    "rows=list(range(100,150))\n",
    "df=df.drop(df.index[rows])"
   ]
  },
  {
   "cell_type": "code",
   "execution_count": 10,
   "id": "b9dcc00a",
   "metadata": {},
   "outputs": [],
   "source": [
    "import matplotlib.pyplot as plt"
   ]
  },
  {
   "cell_type": "code",
   "execution_count": 11,
   "id": "8ed81928",
   "metadata": {},
   "outputs": [],
   "source": [
    "x=df['SepalLengthCm']\n",
    "y=df['PetalLengthCm']"
   ]
  },
  {
   "cell_type": "code",
   "execution_count": 12,
   "id": "9822e46a",
   "metadata": {},
   "outputs": [],
   "source": [
    "setosa_x=x[50:]\n",
    "setosa_y=y[50:]"
   ]
  },
  {
   "cell_type": "code",
   "execution_count": 13,
   "id": "a7835b6c",
   "metadata": {},
   "outputs": [],
   "source": [
    "versicolor_x=x[50:]\n",
    "versicolor_y=y[50:]"
   ]
  },
  {
   "cell_type": "code",
   "execution_count": 17,
   "id": "a0012212",
   "metadata": {},
   "outputs": [
    {
     "ename": "AttributeError",
     "evalue": "module 'matplotlib.pyplot' has no attribute 'Scatter'",
     "output_type": "error",
     "traceback": [
      "\u001b[31m---------------------------------------------------------------------------\u001b[39m",
      "\u001b[31mAttributeError\u001b[39m                            Traceback (most recent call last)",
      "\u001b[36mCell\u001b[39m\u001b[36m \u001b[39m\u001b[32mIn[17]\u001b[39m\u001b[32m, line 2\u001b[39m\n\u001b[32m      1\u001b[39m plt.figure(figsize=(\u001b[32m8\u001b[39m,\u001b[32m6\u001b[39m))\n\u001b[32m----> \u001b[39m\u001b[32m2\u001b[39m \u001b[43mplt\u001b[49m\u001b[43m.\u001b[49m\u001b[43mScatter\u001b[49m(setosa_x,setosa_y,marker=\u001b[33m'\u001b[39m\u001b[33m+\u001b[39m\u001b[33m'\u001b[39m,color=\u001b[33m\"\u001b[39m\u001b[33mgreen\u001b[39m\u001b[33m\"\u001b[39m)\n\u001b[32m      3\u001b[39m plt.Scatter(versicolor_x,versicolor_y,marker=\u001b[33m'\u001b[39m\u001b[33m_\u001b[39m\u001b[33m'\u001b[39m,color=\u001b[33m\"\u001b[39m\u001b[33mred\u001b[39m\u001b[33m\"\u001b[39m)\n\u001b[32m      4\u001b[39m plt.show()\n",
      "\u001b[31mAttributeError\u001b[39m: module 'matplotlib.pyplot' has no attribute 'Scatter'"
     ]
    },
    {
     "data": {
      "text/plain": [
       "<Figure size 800x600 with 0 Axes>"
      ]
     },
     "metadata": {},
     "output_type": "display_data"
    }
   ],
   "source": [
    "plt.figure(figsize=(8,6))\n",
    "plt.Scatter(setosa_x,setosa_y,marker='+',color=\"green\")\n",
    "plt.Scatter(versicolor_x,versicolor_y,marker='_',color=\"red\")\n",
    "plt.show()"
   ]
  },
  {
   "cell_type": "code",
   "execution_count": null,
   "id": "5c981bc0",
   "metadata": {},
   "outputs": [],
   "source": []
  }
 ],
 "metadata": {
  "kernelspec": {
   "display_name": "Python 3",
   "language": "python",
   "name": "python3"
  },
  "language_info": {
   "codemirror_mode": {
    "name": "ipython",
    "version": 3
   },
   "file_extension": ".py",
   "mimetype": "text/x-python",
   "name": "python",
   "nbconvert_exporter": "python",
   "pygments_lexer": "ipython3",
   "version": "3.12.1"
  }
 },
 "nbformat": 4,
 "nbformat_minor": 5
}
