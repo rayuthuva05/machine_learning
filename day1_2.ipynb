{
 "cells": [
  {
   "cell_type": "code",
   "execution_count": 9,
   "id": "ab05e8f0",
   "metadata": {},
   "outputs": [
    {
     "name": "stdout",
     "output_type": "stream",
     "text": [
      "3\n",
      "3.8\n",
      "2.7748873851023212\n",
      "1\n"
     ]
    }
   ],
   "source": [
    "from statistics import mean,median,mode,stdev\n",
    "nums=[1,2,3,8,5];\n",
    "result1=median(nums)\n",
    "print(result1)\n",
    "result2=mean(nums)\n",
    "print(result2)\n",
    "result3=stdev(nums)\n",
    "print(result3)\n",
    "result4=mode(nums)\n",
    "print(result4)"
   ]
  },
  {
   "cell_type": "code",
   "execution_count": null,
   "id": "e179faac",
   "metadata": {},
   "outputs": [],
   "source": []
  }
 ],
 "metadata": {
  "kernelspec": {
   "display_name": "Python 3 (ipykernel)",
   "language": "python",
   "name": "python3"
  },
  "language_info": {
   "codemirror_mode": {
    "name": "ipython",
    "version": 3
   },
   "file_extension": ".py",
   "mimetype": "text/x-python",
   "name": "python",
   "nbconvert_exporter": "python",
   "pygments_lexer": "ipython3",
   "version": "3.9.13"
  }
 },
 "nbformat": 4,
 "nbformat_minor": 5
}
