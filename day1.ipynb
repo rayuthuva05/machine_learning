{
 "cells": [
  {
   "cell_type": "code",
   "execution_count": 13,
   "id": "4af234cf",
   "metadata": {},
   "outputs": [
    {
     "name": "stdout",
     "output_type": "stream",
     "text": [
      "hello world\n"
     ]
    }
   ],
   "source": [
    "print('hello world')"
   ]
  },
  {
   "cell_type": "code",
   "execution_count": 24,
   "id": "150c5a7c",
   "metadata": {},
   "outputs": [
    {
     "name": "stdout",
     "output_type": "stream",
     "text": [
      "Helo\n",
      "hello\n"
     ]
    }
   ],
   "source": [
    "print(\"Helo\");\n",
    "print('hello');"
   ]
  },
  {
   "cell_type": "code",
   "execution_count": 14,
   "id": "5c6ca646",
   "metadata": {},
   "outputs": [
    {
     "name": "stdout",
     "output_type": "stream",
     "text": [
      "5\n"
     ]
    }
   ],
   "source": [
    "x=5;\n",
    "print(x)"
   ]
  },
  {
   "cell_type": "code",
   "execution_count": 43,
   "id": "24adea4b",
   "metadata": {},
   "outputs": [],
   "source": [
    "x=\"hello\";"
   ]
  },
  {
   "cell_type": "code",
   "execution_count": 44,
   "id": "7dd95abe",
   "metadata": {},
   "outputs": [
    {
     "name": "stdout",
     "output_type": "stream",
     "text": [
      "hello\n"
     ]
    }
   ],
   "source": [
    "print(x);"
   ]
  },
  {
   "cell_type": "code",
   "execution_count": 20,
   "id": "46b236b2",
   "metadata": {},
   "outputs": [
    {
     "name": "stdout",
     "output_type": "stream",
     "text": [
      "3\n"
     ]
    }
   ],
   "source": [
    "s=3\n",
    "print(s)"
   ]
  },
  {
   "cell_type": "code",
   "execution_count": 45,
   "id": "0359b665",
   "metadata": {},
   "outputs": [
    {
     "name": "stdout",
     "output_type": "stream",
     "text": [
      "hello\n",
      "<class 'str'>\n"
     ]
    }
   ],
   "source": [
    "y=str(\"hello\");\n",
    "print(y)\n",
    "type(y)\n",
    "print(type(x))"
   ]
  },
  {
   "cell_type": "code",
   "execution_count": 49,
   "id": "fa741b57",
   "metadata": {},
   "outputs": [
    {
     "name": "stdout",
     "output_type": "stream",
     "text": [
      "Addition is  5\n",
      "Subtraction is  -1\n",
      "Multiplication is  6\n",
      "Division is  0.6666666666666666\n"
     ]
    }
   ],
   "source": [
    "a=2\n",
    "b=3\n",
    "\n",
    "c=a+b\n",
    "d=a-b\n",
    "e=a*b\n",
    "f=a/b;\n",
    "\n",
    "print(\"Addition is \",c)\n",
    "print(\"Subtraction is \",d)\n",
    "print(\"Multiplication is \",e)\n",
    "print(\"Division is \",f);"
   ]
  },
  {
   "cell_type": "code",
   "execution_count": 37,
   "id": "29fcbb83",
   "metadata": {
    "scrolled": true
   },
   "outputs": [
    {
     "name": "stdout",
     "output_type": "stream",
     "text": [
      "4\n"
     ]
    }
   ],
   "source": [
    "_num1=4;\n",
    "print(_num1)"
   ]
  },
  {
   "cell_type": "code",
   "execution_count": 39,
   "id": "1891413f",
   "metadata": {},
   "outputs": [
    {
     "name": "stdout",
     "output_type": "stream",
     "text": [
      "6\n",
      "3\n",
      "8\n",
      "Python not a case sensetive\n"
     ]
    }
   ],
   "source": [
    "age=6\n",
    "Age=3\n",
    "AGE=8\n",
    "print(age)\n",
    "print(Age)\n",
    "print(AGE)\n",
    "print(\"Python not a case sensetive\")"
   ]
  },
  {
   "cell_type": "code",
   "execution_count": 87,
   "id": "2956e8e8",
   "metadata": {},
   "outputs": [
    {
     "name": "stdout",
     "output_type": "stream",
     "text": [
      "12\n"
     ]
    }
   ],
   "source": [
    "m=3\n",
    "n=4\n",
    "l=5\n",
    "a1=m+n+l\n",
    "print(a1)"
   ]
  },
  {
   "cell_type": "code",
   "execution_count": 57,
   "id": "4fa23dcd",
   "metadata": {},
   "outputs": [
    {
     "name": "stdout",
     "output_type": "stream",
     "text": [
      "Good\n"
     ]
    }
   ],
   "source": [
    "x=\"Good\";\n",
    "# function\n",
    "def myfun():\n",
    "    print(x);\n",
    "myfun()"
   ]
  },
  {
   "cell_type": "code",
   "execution_count": 72,
   "id": "9f595a80",
   "metadata": {},
   "outputs": [
    {
     "name": "stdout",
     "output_type": "stream",
     "text": [
      "bye\n"
     ]
    }
   ],
   "source": [
    "x=7;\n",
    "y=13\n",
    "if x>y:\n",
    "    print(\"HEllo\");\n",
    "elif x==y:\n",
    "    print(\"Hii\");\n",
    "else:\n",
    "    print(\"bye\");"
   ]
  },
  {
   "cell_type": "code",
   "execution_count": 75,
   "id": "5860f34c",
   "metadata": {},
   "outputs": [
    {
     "name": "stdout",
     "output_type": "stream",
     "text": [
      "While loop\n",
      "0\n",
      "1\n",
      "2\n",
      "3\n",
      "4\n"
     ]
    }
   ],
   "source": [
    "print(\"While loop\");\n",
    "i=0;\n",
    "while i<5:\n",
    "    print(i)\n",
    "    i=i+1"
   ]
  },
  {
   "cell_type": "code",
   "execution_count": 80,
   "id": "e1cf9f23",
   "metadata": {},
   "outputs": [
    {
     "name": "stdout",
     "output_type": "stream",
     "text": [
      "For loop\n"
     ]
    }
   ],
   "source": [
    "print(\"For loop\");"
   ]
  },
  {
   "cell_type": "code",
   "execution_count": 78,
   "id": "73120e58",
   "metadata": {},
   "outputs": [
    {
     "name": "stdout",
     "output_type": "stream",
     "text": [
      "apple\n",
      "banana\n",
      "mango\n"
     ]
    }
   ],
   "source": [
    "fruits=['apple','banana','mango'];\n",
    "for i in fruits:\n",
    "    print(i);"
   ]
  },
  {
   "cell_type": "code",
   "execution_count": 81,
   "id": "461e804c",
   "metadata": {},
   "outputs": [
    {
     "name": "stdout",
     "output_type": "stream",
     "text": [
      "apple\n",
      "orange\n"
     ]
    }
   ],
   "source": [
    "fruits=['apple','orange','mango'];\n",
    "for x in fruits:\n",
    "    print(x)\n",
    "    if x=='orange':\n",
    "        break;"
   ]
  },
  {
   "cell_type": "code",
   "execution_count": 85,
   "id": "f8c1840d",
   "metadata": {},
   "outputs": [
    {
     "name": "stdout",
     "output_type": "stream",
     "text": [
      "apple\n",
      "mango\n"
     ]
    }
   ],
   "source": [
    "for i in fruits:\n",
    "    if i!='orange':\n",
    "        print(i);"
   ]
  },
  {
   "cell_type": "code",
   "execution_count": 90,
   "id": "a7230dfa",
   "metadata": {},
   "outputs": [
    {
     "name": "stdout",
     "output_type": "stream",
     "text": [
      "0\n",
      "1\n",
      "2\n",
      "3\n",
      "4\n",
      "5\n"
     ]
    }
   ],
   "source": [
    "for i in range(6):\n",
    "    print(i);"
   ]
  },
  {
   "cell_type": "code",
   "execution_count": 92,
   "id": "98b4b49e",
   "metadata": {},
   "outputs": [
    {
     "name": "stdout",
     "output_type": "stream",
     "text": [
      "car\n",
      "phone\n",
      "bike\n",
      "laptop\n",
      "cycle\n",
      "tab\n"
     ]
    }
   ],
   "source": [
    "arr1=['car','bike','cycle'];\n",
    "arr2=['phone','laptop','tab'];\n",
    "\n",
    "for i in range(3):\n",
    "    print(arr1[i]);\n",
    "    print(arr2[i]);"
   ]
  },
  {
   "cell_type": "code",
   "execution_count": 93,
   "id": "0a50a34d",
   "metadata": {},
   "outputs": [
    {
     "name": "stdout",
     "output_type": "stream",
     "text": [
      "hi  thuva\n"
     ]
    }
   ],
   "source": [
    "def fun(name):\n",
    "    print(\"hi \",name);\n",
    "fun(\"thuva\")"
   ]
  },
  {
   "cell_type": "code",
   "execution_count": 97,
   "id": "ff25fdaa",
   "metadata": {},
   "outputs": [
    {
     "name": "stdout",
     "output_type": "stream",
     "text": [
      "Addition is  12\n",
      "Subtraction is  -14\n"
     ]
    }
   ],
   "source": [
    "def add(val1,val2):\n",
    "    print(\"Addition is \",val1+val2);\n",
    "def sub(val3,val4):\n",
    "    print(\"Subtraction is \",val3-val4);\n",
    "\n",
    "add(5,7);\n",
    "sub(7,21);"
   ]
  },
  {
   "cell_type": "code",
   "execution_count": null,
   "id": "961f50f0",
   "metadata": {},
   "outputs": [],
   "source": []
  }
 ],
 "metadata": {
  "kernelspec": {
   "display_name": "Python 3 (ipykernel)",
   "language": "python",
   "name": "python3"
  },
  "language_info": {
   "codemirror_mode": {
    "name": "ipython",
    "version": 3
   },
   "file_extension": ".py",
   "mimetype": "text/x-python",
   "name": "python",
   "nbconvert_exporter": "python",
   "pygments_lexer": "ipython3",
   "version": "3.9.13"
  }
 },
 "nbformat": 4,
 "nbformat_minor": 5
}
