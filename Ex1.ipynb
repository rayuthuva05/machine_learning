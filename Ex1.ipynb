{
 "cells": [
  {
   "cell_type": "code",
   "execution_count": 3,
   "id": "92196aca",
   "metadata": {},
   "outputs": [
    {
     "name": "stdout",
     "output_type": "stream",
     "text": [
      "Enter num1:\n",
      "15\n",
      "Enter num2:\n",
      "40\n",
      "Production is  600\n"
     ]
    }
   ],
   "source": [
    "print(\"Enter num1:\")\n",
    "x=int(input())\n",
    "print(\"Enter num2:\")\n",
    "y=int(input())\n",
    "m=x*y\n",
    "\n",
    "if(m<=1000):\n",
    "    print(\"Production is \",m);\n",
    "else:\n",
    "    print(\"Sum is \",x+y);"
   ]
  },
  {
   "cell_type": "code",
   "execution_count": 4,
   "id": "078c4e99",
   "metadata": {},
   "outputs": [
    {
     "name": "stdout",
     "output_type": "stream",
     "text": [
      "Enter an integer:\n",
      "6\n",
      "Even\n"
     ]
    }
   ],
   "source": [
    "print(\"Enter an integer:\")\n",
    "x=int(input())\n",
    "\n",
    "if x%2==0:\n",
    "    print(\"Even\")\n",
    "else:\n",
    "    print(\"Odd\");"
   ]
  },
  {
   "cell_type": "code",
   "execution_count": 6,
   "id": "5318920b",
   "metadata": {},
   "outputs": [
    {
     "name": "stdout",
     "output_type": "stream",
     "text": [
      "Average is  3.0\n"
     ]
    }
   ],
   "source": [
    "list=[1,2,3,4,5];\n",
    "sum=0\n",
    "avg=0\n",
    "for i in list:\n",
    "    sum=sum+i\n",
    "avg=sum/5\n",
    "print(\"Average is \",avg)"
   ]
  },
  {
   "cell_type": "code",
   "execution_count": null,
   "id": "eb979b61",
   "metadata": {},
   "outputs": [],
   "source": []
  },
  {
   "cell_type": "code",
   "execution_count": null,
   "id": "39adf2ba",
   "metadata": {},
   "outputs": [],
   "source": [
    "x=input()\n",
    "j=0;\n",
    "for i in x:\n",
    "    if i=='A' or i=='a':\n",
    "        j=j+1\n",
    "    elif i=='E'or i=='e':\n",
    "        j=j+1\n",
    "    elif  i=='I'or i=='i':\n",
    "        j=j+1\n",
    "    elif  i=='O'or i=='o':\n",
    "        j=j+1\n",
    "    elif  i=='U'or i=='u':\n",
    "        j=j+1\n",
    "\n",
    "print(\"No of vowels is\",j)"
   ]
  },
  {
   "cell_type": "code",
   "execution_count": null,
   "id": "262d5678",
   "metadata": {},
   "outputs": [],
   "source": []
  },
  {
   "cell_type": "code",
   "execution_count": null,
   "id": "b6d11ce5",
   "metadata": {},
   "outputs": [],
   "source": []
  }
 ],
 "metadata": {
  "kernelspec": {
   "display_name": "Python 3 (ipykernel)",
   "language": "python",
   "name": "python3"
  },
  "language_info": {
   "codemirror_mode": {
    "name": "ipython",
    "version": 3
   },
   "file_extension": ".py",
   "mimetype": "text/x-python",
   "name": "python",
   "nbconvert_exporter": "python",
   "pygments_lexer": "ipython3",
   "version": "3.9.13"
  }
 },
 "nbformat": 4,
 "nbformat_minor": 5
}
