{
 "cells": [
  {
   "cell_type": "code",
   "execution_count": 2,
   "id": "c105242a",
   "metadata": {},
   "outputs": [
    {
     "name": "stdout",
     "output_type": "stream",
     "text": [
      "[1 2 3 4 5]\n"
     ]
    }
   ],
   "source": [
    "import numpy as np\n",
    "x=np.array([1,2,3,4,5])\n",
    "print(x)"
   ]
  },
  {
   "cell_type": "code",
   "execution_count": 12,
   "id": "30d1758e",
   "metadata": {},
   "outputs": [
    {
     "name": "stdout",
     "output_type": "stream",
     "text": [
      "[[1 5 2]\n",
      " [4 7 4]\n",
      " [2 0 9]]\n"
     ]
    }
   ],
   "source": [
    "m=np.array([[1,5,2],\n",
    "          [4,7,4],\n",
    "          [2,0,9]]);\n",
    "print(m)"
   ]
  },
  {
   "cell_type": "code",
   "execution_count": 13,
   "id": "89fe8df3",
   "metadata": {},
   "outputs": [
    {
     "name": "stdout",
     "output_type": "stream",
     "text": [
      "Matrix transpose\n",
      " [[1 4 2]\n",
      " [5 7 0]\n",
      " [2 4 9]] \n",
      "\n",
      "Matrix determinant\n",
      " -105.00000000000006 \n",
      "\n",
      "Matrix inverse\n",
      " [[-0.6         0.42857143 -0.05714286]\n",
      " [ 0.26666667 -0.04761905 -0.03809524]\n",
      " [ 0.13333333 -0.0952381   0.12380952]] \n",
      "\n",
      "Prouduct of matrix and its traverse \n",
      " [[1. 0. 0.]\n",
      " [0. 1. 0.]\n",
      " [0. 0. 1.]]\n"
     ]
    }
   ],
   "source": [
    "print('Matrix transpose\\n',m.transpose(),'\\n')\n",
    "print('Matrix determinant\\n',np.linalg.det(m),'\\n')\n",
    "m_inv=np.linalg.inv(m);\n",
    "print('Matrix inverse\\n',m_inv,'\\n')\n",
    "ider_m=np.dot(m,m_inv)\n",
    "iden_m=np.round(np.abs(ider_m),0)\n",
    "print('Prouduct of matrix and its traverse \\n',iden_m)"
   ]
  },
  {
   "cell_type": "code",
   "execution_count": 16,
   "id": "b84ba2ec",
   "metadata": {},
   "outputs": [
    {
     "name": "stdout",
     "output_type": "stream",
     "text": [
      "Eigen values\n",
      " [-1.32455532 11.32455532  7.        ] \n",
      "\n",
      "Eigen vector\n",
      " [[-0.91761521  0.46120352 -0.46829291]\n",
      " [ 0.35550789  0.79362022 -0.74926865]\n",
      " [ 0.17775394  0.39681011  0.46829291]] \n",
      "\n"
     ]
    }
   ],
   "source": [
    "eigen_vals,eigen_vecs=np.linalg.eig(m)\n",
    "print('Eigen values\\n',eigen_vals,'\\n')\n",
    "print('Eigen vector\\n',eigen_vecs,'\\n')"
   ]
  },
  {
   "cell_type": "code",
   "execution_count": 17,
   "id": "fc6c0272",
   "metadata": {},
   "outputs": [
    {
     "name": "stdout",
     "output_type": "stream",
     "text": [
      "getting SVD outputs:\n",
      "\n",
      "U:\n",
      " [[ 0.3831556  -0.39279153  0.83600634]\n",
      " [ 0.68811254 -0.48239977 -0.54202545]\n",
      " [ 0.61619228  0.78294653  0.0854506 ]] \n",
      "\n",
      "S:\n",
      " [12.10668383  6.91783499  1.25370079]\n",
      "\n",
      "VT:\n",
      " [[ 0.36079164  0.55610321  0.74871798]\n",
      " [-0.10935467 -0.7720271   0.62611158]\n",
      " [-0.92621323  0.30777163  0.21772844]]\n"
     ]
    }
   ],
   "source": [
    "u,s,vt=np.linalg.svd(m)\n",
    "print(\"getting SVD outputs:\\n\")\n",
    "print(\"U:\\n\",u,\"\\n\")\n",
    "print(\"S:\\n\",s)\n",
    "print(\"\\nVT:\\n\",vt)"
   ]
  },
  {
   "cell_type": "code",
   "execution_count": 23,
   "id": "06341915",
   "metadata": {},
   "outputs": [
    {
     "name": "stdout",
     "output_type": "stream",
     "text": [
      "[[0 0 0]\n",
      " [0 0 0]]\n"
     ]
    }
   ],
   "source": [
    "zeros_array=np.zeros((2,3),dtype=np.int32)\n",
    "print(zeros_array)"
   ]
  },
  {
   "cell_type": "code",
   "execution_count": 22,
   "id": "18d01cee",
   "metadata": {},
   "outputs": [
    {
     "name": "stdout",
     "output_type": "stream",
     "text": [
      "[[1 1 1]]\n"
     ]
    }
   ],
   "source": [
    "ones_array=np.ones((1,3),dtype=np.int32)\n",
    "print(ones_array)"
   ]
  },
  {
   "cell_type": "code",
   "execution_count": 24,
   "id": "d0b2cdfb",
   "metadata": {},
   "outputs": [],
   "source": [
    "#random number"
   ]
  },
  {
   "cell_type": "code",
   "execution_count": 43,
   "id": "6250a265",
   "metadata": {},
   "outputs": [],
   "source": [
    "import scipy as sp\n",
    "import numpy as np\n",
    "from statistics import mode "
   ]
  },
  {
   "cell_type": "code",
   "execution_count": 25,
   "id": "4eea331f",
   "metadata": {},
   "outputs": [
    {
     "name": "stdout",
     "output_type": "stream",
     "text": [
      "Data:  [18 11 14  8  4  2  4  3 17  6  1 12 10  6  5]\n"
     ]
    }
   ],
   "source": [
    "nums=np.random.randint(1,20,size=(1,15))[0]\n",
    "print(\"Data: \",nums)"
   ]
  },
  {
   "cell_type": "code",
   "execution_count": 44,
   "id": "16cfcc47",
   "metadata": {
    "scrolled": false
   },
   "outputs": [
    {
     "name": "stdout",
     "output_type": "stream",
     "text": [
      "Means:  8.066666666666666\n",
      "Median:  6.0\n",
      "Mode:  4\n",
      "SD:  5.195724738239657\n",
      "Variatiant:  26.995555555555555\n",
      "Skew:  0.5266396836771182\n",
      "kurtosis:  -0.9096244008019192\n"
     ]
    }
   ],
   "source": [
    "print(\"Means: \",np.mean(nums))\n",
    "print(\"Median: \",np.median(nums))\n",
    "print(\"Mode: \",mode(nums))\n",
    "print(\"SD: \",np.std(nums))\n",
    "print(\"Variatiant: \",np.var(nums))\n",
    "print(\"Skew: \",sp.stats.skew(nums))\n",
    "print(\"kurtosis: \",sp.stats.kurtosis(nums))"
   ]
  },
  {
   "cell_type": "code",
   "execution_count": null,
   "id": "1878b167",
   "metadata": {},
   "outputs": [],
   "source": [
    "#wite a code to generate 3 random numbers between 100 AND 999 which is divisible by 3"
   ]
  },
  {
   "cell_type": "code",
   "execution_count": null,
   "id": "53cc52f3",
   "metadata": {},
   "outputs": [],
   "source": [
    "#write a code generate 100 random lottary tickets and pick two lucky tickets from it as a winner\n",
    "#the lottery number must be 10 digit long\n",
    "#all 100 tickets must be unique\n",
    "#generate a random list of 1000 numbers using randrange() method to pick lucky 2 tickets"
   ]
  },
  {
   "cell_type": "code",
   "execution_count": null,
   "id": "49da76f0",
   "metadata": {},
   "outputs": [],
   "source": [
    "#wirte a code to generate a random password which the following conditions\n",
    "#password length must be 10 chars long\n",
    "#It must contains at least 2 uppercase ,1 digit and "
   ]
  }
 ],
 "metadata": {
  "kernelspec": {
   "display_name": "Python 3 (ipykernel)",
   "language": "python",
   "name": "python3"
  },
  "language_info": {
   "codemirror_mode": {
    "name": "ipython",
    "version": 3
   },
   "file_extension": ".py",
   "mimetype": "text/x-python",
   "name": "python",
   "nbconvert_exporter": "python",
   "pygments_lexer": "ipython3",
   "version": "3.9.13"
  }
 },
 "nbformat": 4,
 "nbformat_minor": 5
}
